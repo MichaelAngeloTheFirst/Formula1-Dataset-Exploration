{
 "cells": [
  {
   "cell_type": "code",
   "id": "initial_id",
   "metadata": {
    "collapsed": true,
    "ExecuteTime": {
     "end_time": "2024-11-05T22:33:58.431492Z",
     "start_time": "2024-11-05T22:33:57.976064Z"
    }
   },
   "source": [
    "import kagglehub\n",
    "\n",
    "# Download latest version\n",
    "path = kagglehub.dataset_download( handle=\"rohanrao/formula-1-world-championship-1950-2020\"\n",
    ")"
   ],
   "outputs": [],
   "execution_count": 7
  },
  {
   "metadata": {
    "ExecuteTime": {
     "end_time": "2024-11-05T22:59:41.786736Z",
     "start_time": "2024-11-05T22:59:39.682284Z"
    }
   },
   "cell_type": "code",
   "source": [
    "import os\n",
    "from dotenv import load_dotenv\n",
    "from kaggle.api.kaggle_api_extended import KaggleApi\n",
    "\n",
    "load_dotenv()\n",
    "\n",
    "# Set up API\n",
    "api = KaggleApi()\n",
    "api.authenticate()\n",
    "\n",
    "# Download dataset to a specified directory\n",
    "dataset = 'rohanrao/formula-1-world-championship-1950-2020'\n",
    "download_path = os.environ.get('LOCAL_PATH')\n",
    "api.dataset_download_files(dataset, path=download_path, unzip=True)\n"
   ],
   "id": "9294bee1bad517e0",
   "outputs": [
    {
     "name": "stdout",
     "output_type": "stream",
     "text": [
      "Dataset URL: https://www.kaggle.com/datasets/rohanrao/formula-1-world-championship-1950-2020\n"
     ]
    }
   ],
   "execution_count": 18
  }
 ],
 "metadata": {
  "kernelspec": {
   "display_name": "Python 3",
   "language": "python",
   "name": "python3"
  },
  "language_info": {
   "codemirror_mode": {
    "name": "ipython",
    "version": 2
   },
   "file_extension": ".py",
   "mimetype": "text/x-python",
   "name": "python",
   "nbconvert_exporter": "python",
   "pygments_lexer": "ipython2",
   "version": "2.7.6"
  }
 },
 "nbformat": 4,
 "nbformat_minor": 5
}
